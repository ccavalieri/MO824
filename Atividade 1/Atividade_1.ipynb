{
 "cells": [
  {
   "cell_type": "markdown",
   "metadata": {
    "id": "UcmAvPQ2b2c1"
   },
   "source": [
    "# Atividade 1 - Problema MAX-QBF com Set Cover\n",
    "\n",
    "#### MO824 - Tópicos em Otimização Combinatória - Unicamp\n",
    "\n",
    "#### Alunos:\n",
    "\n",
    "Carlos E. Cavalieri Furtado -\n",
    "RA 219748 -\n",
    "c219748@dac.unicamp.br\n",
    "\n",
    "Samuel Batista De Souza -\n",
    "RA 205681 -\n",
    "s205681@dac.unicamp.br"
   ]
  },
  {
   "cell_type": "markdown",
   "metadata": {
    "id": "Exm9gZfuccdI"
   },
   "source": [
    "Este relatório apresenta a modelagem e resolução computacional do problema de maximização de função binária quadrática com restrições de cobertura de conjuntos (MAX-SC-QBF), desenvolvido para a disciplina MO824. O trabalho consiste na formulação matemática através de programação linear inteira, implementação de um gerador de instâncias e análise experimental utilizando o solver Gurobi para resolver 15 instâncias combinando cinco tamanhos (n ∈ {25, 50, 100, 200, 400}) e três padrões de geração de conjuntos, com limite de 10 minutos por instância."
   ]
  },
  {
   "cell_type": "markdown",
   "metadata": {
    "id": "nDd5r5D-dGsb",
    "jp-MarkdownHeadingCollapsed": true
   },
   "source": [
    "#### 1. Configurações iniciais"
   ]
  },
  {
   "cell_type": "markdown",
   "metadata": {
    "id": "2p6IYRazelgb"
   },
   "source": [
    "##### 1.1 Importação de bibliotecas"
   ]
  },
  {
   "cell_type": "code",
   "execution_count": 1,
   "metadata": {
    "id": "UPVxp7WLbhwf"
   },
   "outputs": [],
   "source": [
    "# import libs\n",
    "import numpy as np\n",
    "import pandas as pd\n",
    "import time\n",
    "import os\n",
    "from itertools import combinations\n",
    "import random"
   ]
  },
  {
   "cell_type": "code",
   "execution_count": 2,
   "metadata": {
    "colab": {
     "base_uri": "https://localhost:8080/"
    },
    "id": "HADknXaIdXAx",
    "outputId": "cb5f0b30-284a-4c89-b4dc-a5fc9b1f90ef"
   },
   "outputs": [
    {
     "name": "stdout",
     "output_type": "stream",
     "text": [
      "Collecting gurobipy\n",
      "  Downloading gurobipy-12.0.3-cp312-cp312-macosx_10_9_universal2.whl.metadata (16 kB)\n",
      "Downloading gurobipy-12.0.3-cp312-cp312-macosx_10_9_universal2.whl (12.2 MB)\n",
      "\u001b[2K   \u001b[90m━━━━━━━━━━━━━━━━━━━━━━━━━━━━━━━━━━━━━━━━\u001b[0m \u001b[32m12.2/12.2 MB\u001b[0m \u001b[31m8.6 MB/s\u001b[0m eta \u001b[36m0:00:00\u001b[0m \u001b[36m0:00:01\u001b[0m\n",
      "\u001b[?25hInstalling collected packages: gurobipy\n",
      "Successfully installed gurobipy-12.0.3\n"
     ]
    }
   ],
   "source": [
    "# try to import Gurobi API or install it\n",
    "try:\n",
    "  import gurobipy as gp\n",
    "  from gurobipy import GRB\n",
    "except:\n",
    "  !pip install gurobipy\n",
    "  import gurobipy as gp\n",
    "  from gurobipy import GRB"
   ]
  },
  {
   "cell_type": "markdown",
   "metadata": {
    "id": "vxhdH7HLet7x"
   },
   "source": [
    "##### 1.2 Instalação da licensa do Gurobi"
   ]
  },
  {
   "cell_type": "code",
   "execution_count": 3,
   "metadata": {
    "colab": {
     "base_uri": "https://localhost:8080/"
    },
    "id": "SCLtCPdpeMYR",
    "outputId": "17b34be2-2772-47da-8a6e-d7ccf2a9438d"
   },
   "outputs": [
    {
     "name": "stdout",
     "output_type": "stream",
     "text": [
      "Set parameter Username\n",
      "Set parameter LicenseID to value 2684219\n",
      "Set parameter WLSAccessID\n",
      "Set parameter WLSSecret\n",
      "Set parameter LicenseID to value 2697514\n",
      "Academic license 2697514 - for non-commercial use only - registered to c2___@dac.unicamp.br\n"
     ]
    }
   ],
   "source": [
    "# Gurobi WLS License\n",
    "WLSACCESSID=\"\"\n",
    "WLSSECRET=\"\"\n",
    "LICENSEID=\n",
    "\n",
    "params = {\n",
    "\"WLSACCESSID\": WLSACCESSID,\n",
    "\"WLSSECRET\": WLSSECRET,\n",
    "\"LICENSEID\": LICENSEID\n",
    "}\n",
    "env = gp.Env(params=params)"
   ]
  },
  {
   "cell_type": "markdown",
   "metadata": {
    "id": "B1Bn_vYefWd5",
    "jp-MarkdownHeadingCollapsed": true
   },
   "source": [
    "#### 2. Gerador de Instância"
   ]
  },
  {
   "cell_type": "markdown",
   "metadata": {
    "id": "VjpZyRWEfk4o"
   },
   "source": [
    "##### 2.1 Função que gera uma instância, podendo ter 3 padrões:\n",
    "\n",
    "- Padrão 1: Subconjuntos Pequenos (Alta Fragmentação)\n",
    "- Padrão 2: Subconjuntos Médios (Estrutura Circular)\n",
    "- Padrão 3: Subconjuntos com Tamanhos Mistos"
   ]
  },
  {
   "cell_type": "code",
   "execution_count": 4,
   "metadata": {
    "id": "zxgQRl87fZq7"
   },
   "outputs": [],
   "source": [
    "# instance generation function\n",
    "def generate_instance(n, pattern_type, seed=None):\n",
    "    \"\"\"\n",
    "    Generate MAX-SC-QBF instance with different coverage patterns\n",
    "    pattern_type: 1, 2, or 3 for different subset generation strategies\n",
    "    \"\"\"\n",
    "    if seed is not None:\n",
    "        np.random.seed(seed)\n",
    "        random.seed(seed)\n",
    "\n",
    "    # Generate coefficient matrix A\n",
    "    A = np.zeros((n, n))\n",
    "    for i in range(n):\n",
    "        for j in range(i, n):\n",
    "            A[i][j] = np.random.uniform(-10, 10)\n",
    "\n",
    "    # Generate subsets based on pattern type\n",
    "    subsets = []\n",
    "\n",
    "    if pattern_type == 1:\n",
    "        # Pattern 1: Small overlapping subsets (2-4 elements each)\n",
    "        for i in range(n):\n",
    "            size = np.random.randint(2, min(5, n//2 + 1))\n",
    "            elements = set()\n",
    "            elements.add(i)\n",
    "            while len(elements) < size:\n",
    "                elements.add(np.random.randint(0, n))\n",
    "            subsets.append(sorted(list(elements)))\n",
    "\n",
    "    elif pattern_type == 2:\n",
    "        # Pattern 2: Medium-sized subsets with overlap (~3 elements)\n",
    "        coverage_target = 3\n",
    "        for i in range(n):\n",
    "            size = np.random.randint(max(2, n//10), max(3, n//5 + 1))\n",
    "            base = i\n",
    "            elements = set()\n",
    "            for j in range(size):\n",
    "                elements.add((base + j) % n)\n",
    "            subsets.append(sorted(list(elements)))\n",
    "\n",
    "    else:\n",
    "        # Pattern 3: Mixed sizes with some large subsets\n",
    "        for i in range(n):\n",
    "            prob = np.random.random()\n",
    "            if prob < 0.3:  # Small subset\n",
    "                size = np.random.randint(2, max(3, n//10 + 1))\n",
    "            elif prob < 0.8:  # Medium subset\n",
    "                size = np.random.randint(max(3, n//8), max(4, n//4 + 1))\n",
    "            else:  # Large subset\n",
    "                size = np.random.randint(max(4, n//3), max(5, n//2 + 1))\n",
    "\n",
    "            elements = set([i])  # Start with element i\n",
    "            candidates = list(range(n))\n",
    "            candidates.remove(i)\n",
    "            np.random.shuffle(candidates)\n",
    "            for j in candidates[:size-1]:\n",
    "                elements.add(j)\n",
    "            subsets.append(sorted(list(elements)))\n",
    "\n",
    "    # Ensure all elements are covered\n",
    "    covered = set()\n",
    "    for s in subsets:\n",
    "        covered.update(s)\n",
    "\n",
    "    for elem in range(n):\n",
    "        if elem not in covered:\n",
    "            subsets[elem % len(subsets)].append(elem)\n",
    "\n",
    "    return A, subsets"
   ]
  },
  {
   "cell_type": "markdown",
   "metadata": {
    "id": "BQ-W1CRoiY2F"
   },
   "source": [
    "##### 2.2 Funções para salvar e carregar instâncias"
   ]
  },
  {
   "cell_type": "code",
   "execution_count": 5,
   "metadata": {
    "id": "bRFd7bqRijNA"
   },
   "outputs": [],
   "source": [
    "# save instances to dir\n",
    "def save_instance(filename, n, A, subsets):\n",
    "    \"\"\"Save instance in the specified format\"\"\"\n",
    "    with open(filename, 'w') as f:\n",
    "        f.write(f\"{n}\\n\")\n",
    "\n",
    "        # Write subset sizes\n",
    "        sizes = [len(s) for s in subsets]\n",
    "        f.write(\" \".join(map(str, sizes)) + \"\\n\")\n",
    "\n",
    "        # Write subset elements\n",
    "        for subset in subsets:\n",
    "            f.write(\" \".join(map(str, [x+1 for x in subset])) + \"\\n\")\n",
    "\n",
    "        # Write upper triangular matrix\n",
    "        for i in range(n):\n",
    "            row = []\n",
    "            for j in range(i, n):\n",
    "                row.append(str(A[i][j]))\n",
    "            f.write(\" \".join(row) + \"\\n\")\n",
    "\n",
    "# load instances to dir\n",
    "def load_instance(filename):\n",
    "    \"\"\"Load instance from file\"\"\"\n",
    "    with open(filename, 'r') as f:\n",
    "        lines = f.readlines()\n",
    "\n",
    "    n = int(lines[0].strip())\n",
    "    sizes = list(map(int, lines[1].strip().split()))\n",
    "\n",
    "    subsets = []\n",
    "    line_idx = 2\n",
    "    for size in sizes:\n",
    "        subset = list(map(int, lines[line_idx].strip().split()))\n",
    "        subsets.append([x-1 for x in subset])\n",
    "        line_idx += 1\n",
    "\n",
    "    A = np.zeros((n, n))\n",
    "    for i in range(n):\n",
    "        values = list(map(float, lines[line_idx].strip().split()))\n",
    "        for j, val in enumerate(values):\n",
    "            A[i][i+j] = val\n",
    "        line_idx += 1\n",
    "\n",
    "    return n, A, subsets"
   ]
  },
  {
   "cell_type": "markdown",
   "metadata": {
    "id": "MjDx0f-JiyXz",
    "jp-MarkdownHeadingCollapsed": true
   },
   "source": [
    "#### 3. Implementação do modelo matemático"
   ]
  },
  {
   "cell_type": "code",
   "execution_count": 6,
   "metadata": {
    "id": "62XEbhwRivXS"
   },
   "outputs": [],
   "source": [
    "# Implement the mathematical formulation\n",
    "def solve_max_sc_qbf(n, A, subsets, time_limit=600, env=None):\n",
    "    \"\"\"\n",
    "    Solve MAX-SC-QBF using Gurobi\n",
    "    Returns: objective value, lower bound, upper bound, gap, solving time\n",
    "    \"\"\"\n",
    "    model = gp.Model(\"MAX-SC-QBF\", env=env)\n",
    "\n",
    "    # Decision variables\n",
    "    x = model.addVars(n, vtype=GRB.BINARY, name=\"x\")\n",
    "    y = model.addVars(n, n, vtype=GRB.BINARY, name=\"y\")\n",
    "\n",
    "    # Objective function\n",
    "    obj = gp.quicksum(A[i][j] * y[i,j] for i in range(n) for j in range(n))\n",
    "    model.setObjective(obj, GRB.MAXIMIZE)\n",
    "\n",
    "    # Linearization constraints\n",
    "    for i in range(n):\n",
    "        for j in range(n):\n",
    "            model.addConstr(y[i,j] <= x[i], name=f\"lin1_{i}_{j}\")\n",
    "            model.addConstr(y[i,j] <= x[j], name=f\"lin2_{i}_{j}\")\n",
    "            model.addConstr(y[i,j] >= x[i] + x[j] - 1, name=f\"lin3_{i}_{j}\")\n",
    "\n",
    "    # Set cover constraints\n",
    "    for k in range(n):\n",
    "        covering_sets = [i for i in range(n) if k in subsets[i]]\n",
    "        if covering_sets:\n",
    "            model.addConstr(\n",
    "                gp.quicksum(x[i] for i in covering_sets) >= 1,\n",
    "                name=f\"cover_{k}\"\n",
    "            )\n",
    "\n",
    "    # Set parameters\n",
    "    model.Params.TimeLimit = time_limit\n",
    "    model.Params.MIPGap = 0.0001\n",
    "    model.Params.OutputFlag = 0\n",
    "\n",
    "    # Solve\n",
    "    start_time = time.time()\n",
    "    model.optimize()\n",
    "    solve_time = time.time() - start_time\n",
    "\n",
    "    # Extract results\n",
    "    if model.Status == GRB.OPTIMAL:\n",
    "        obj_val = model.ObjVal\n",
    "        obj_bound = model.ObjBound\n",
    "        gap = 0.0\n",
    "    elif model.Status == GRB.TIME_LIMIT:\n",
    "        obj_val = model.ObjVal if model.SolCount > 0 else 0\n",
    "        obj_bound = model.ObjBound\n",
    "        gap = model.MIPGap * 100\n",
    "    else:\n",
    "        obj_val = 0\n",
    "        obj_bound = 0\n",
    "        gap = 100.0\n",
    "\n",
    "    return {\n",
    "        'LI': obj_val,\n",
    "        'LS': obj_bound,\n",
    "        'Gap': gap,\n",
    "        'Time': solve_time,\n",
    "        'Status': model.Status\n",
    "    }"
   ]
  },
  {
   "cell_type": "markdown",
   "metadata": {
    "id": "P7yFhqiljI71"
   },
   "source": [
    "#### 4. Funções auxiliares"
   ]
  },
  {
   "cell_type": "markdown",
   "metadata": {
    "id": "lxpdna5IjXyq"
   },
   "source": [
    "##### 4.1 Função que gera n instâncias"
   ]
  },
  {
   "cell_type": "code",
   "execution_count": 12,
   "metadata": {
    "id": "25-NVwOUjIip"
   },
   "outputs": [],
   "source": [
    "# Generete all instances\n",
    "def generate_all_instances(output_dir=\"instances\", n_values = [25, 50, 100, 200, 400], patterns = [1, 2, 3]):\n",
    "    \"\"\"Generate all instances\"\"\"\n",
    "    if not os.path.exists(output_dir):\n",
    "        os.makedirs(output_dir)\n",
    "\n",
    "    instances = []\n",
    "    for i, n in enumerate(n_values):\n",
    "        for j, pattern in enumerate(patterns):\n",
    "            instance_name = f\"n{n}p{pattern}\"\n",
    "            filename = os.path.join(output_dir, f\"{instance_name}.txt\")\n",
    "\n",
    "            A, subsets = generate_instance(n, pattern, seed=42+i*10+j)\n",
    "            save_instance(filename, n, A, subsets)\n",
    "            instances.append((instance_name, n, pattern))\n",
    "            print(f\"Generated instance {instance_name} (n={n}, pattern={pattern})\")\n",
    "\n",
    "    return instances"
   ]
  },
  {
   "cell_type": "markdown",
   "metadata": {
    "id": "MwRkfbJVjt5X"
   },
   "source": [
    "##### 4.2 Função que roda os experimentos"
   ]
  },
  {
   "cell_type": "code",
   "execution_count": 8,
   "metadata": {
    "id": "P8n0PRfpjxf5"
   },
   "outputs": [],
   "source": [
    "# Run experiments and collect results\n",
    "def run_experiments(instance_dir=\"instances\", time_limit=600, env=None):\n",
    "    \"\"\"Run all experiments and collect results\"\"\"\n",
    "    results = []\n",
    "\n",
    "    # Get all instance files\n",
    "    instance_files = sorted([f for f in os.listdir(instance_dir) if f.endswith('.txt')])\n",
    "\n",
    "    for instance_file in instance_files:\n",
    "        instance_name = instance_file.replace('.txt', '')\n",
    "        filepath = os.path.join(instance_dir, instance_file)\n",
    "\n",
    "        print(f\"\\nSolving {instance_name}...\")\n",
    "\n",
    "        # Load instance\n",
    "        n, A, subsets = load_instance(filepath)\n",
    "\n",
    "        # Solve\n",
    "        result = solve_max_sc_qbf(n, A, subsets, time_limit, env)\n",
    "\n",
    "        # Add instance info\n",
    "        result['Instance'] = instance_name\n",
    "        result['n'] = n\n",
    "\n",
    "        results.append(result)\n",
    "\n",
    "        print(f\"  LI: {result['LI']:.2f}\")\n",
    "        print(f\"  LS: {result['LS']:.2f}\")\n",
    "        print(f\"  Gap: {result['Gap']:.2f}%\")\n",
    "        print(f\"  Time: {result['Time']:.2f}s\")\n",
    "\n",
    "    # Create DataFrame\n",
    "    df = pd.DataFrame(results)\n",
    "    df = df[['Instance', 'n', 'LS', 'LI', 'Gap', 'Time']]\n",
    "\n",
    "    return df"
   ]
  },
  {
   "cell_type": "markdown",
   "metadata": {
    "id": "ycvHCr7xkcU3"
   },
   "source": [
    "#### 5. Rotina de execução"
   ]
  },
  {
   "cell_type": "code",
   "execution_count": null,
   "metadata": {
    "colab": {
     "base_uri": "https://localhost:8080/"
    },
    "id": "wk_WE18gkb2i",
    "outputId": "4bc8e557-728e-43d7-f1ac-cf4e4f24379a"
   },
   "outputs": [
    {
     "name": "stdout",
     "output_type": "stream",
     "text": [
      "Generated instance n25p1 (n=25, pattern=1)\n",
      "Generated instance n25p2 (n=25, pattern=2)\n",
      "Generated instance n25p3 (n=25, pattern=3)\n",
      "Generated instance n50p1 (n=50, pattern=1)\n",
      "Generated instance n50p2 (n=50, pattern=2)\n",
      "Generated instance n50p3 (n=50, pattern=3)\n",
      "Generated instance n100p1 (n=100, pattern=1)\n",
      "Generated instance n100p2 (n=100, pattern=2)\n",
      "Generated instance n100p3 (n=100, pattern=3)\n",
      "Generated instance n200p1 (n=200, pattern=1)\n",
      "Generated instance n200p2 (n=200, pattern=2)\n",
      "Generated instance n200p3 (n=200, pattern=3)\n",
      "Generated instance n400p1 (n=400, pattern=1)\n",
      "Generated instance n400p2 (n=400, pattern=2)\n",
      "Generated instance n400p3 (n=400, pattern=3)\n",
      "\n",
      "Solving n100p1...\n",
      "Set parameter TimeLimit to value 600\n",
      "Set parameter MIPGap to value 0.0001\n",
      "  LI: 0.00\n",
      "  LS: 0.00\n",
      "  Gap: 100.00%\n",
      "  Time: 0.03s\n",
      "\n",
      "Solving n100p2...\n",
      "Set parameter TimeLimit to value 600\n",
      "Set parameter MIPGap to value 0.0001\n",
      "\n",
      "Interrupt request received\n"
     ]
    }
   ],
   "source": [
    "# Generate instances\n",
    "instances = generate_all_instances()\n",
    "\n",
    "# Run experiments\n",
    "results_df = run_experiments(time_limit=600, env=env)\n",
    "\n",
    "# Display results\n",
    "print(\"\\n\" + \"=\"*60)\n",
    "print(\"RESULTS\")\n",
    "print(\"=\"*60)\n",
    "print(results_df.to_string(index=False))\n",
    "\n",
    "# Save results to CSV\n",
    "results_df.to_csv(\"results.csv\", index=False)"
   ]
  }
 ],
 "metadata": {
  "colab": {
   "provenance": []
  },
  "kernelspec": {
   "display_name": "Python 3 (ipykernel)",
   "language": "python",
   "name": "python3"
  },
  "language_info": {
   "codemirror_mode": {
    "name": "ipython",
    "version": 3
   },
   "file_extension": ".py",
   "mimetype": "text/x-python",
   "name": "python",
   "nbconvert_exporter": "python",
   "pygments_lexer": "ipython3",
   "version": "3.12.7"
  }
 },
 "nbformat": 4,
 "nbformat_minor": 4
}
