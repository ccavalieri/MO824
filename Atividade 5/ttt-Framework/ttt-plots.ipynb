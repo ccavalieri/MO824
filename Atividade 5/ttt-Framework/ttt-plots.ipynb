{
 "cells": [
  {
   "cell_type": "code",
   "execution_count": 10,
   "id": "d624c049-e1d0-4054-9b22-bd8d2e018390",
   "metadata": {},
   "outputs": [],
   "source": [
    "# import libs\n",
    "import pandas as pd\n",
    "import numpy as np\n",
    "import matplotlib.pyplot as plt\n",
    "from pathlib import Path"
   ]
  },
  {
   "cell_type": "code",
   "execution_count": 11,
   "id": "d15336f2-af9b-4032-91d9-e4313b1582f6",
   "metadata": {},
   "outputs": [],
   "source": [
    "def compute_ttt_empirical(times):\n",
    "    \"\"\"\n",
    "    Calculates TTT plot empirical distribution\n",
    "    \n",
    "    Args:\n",
    "        times: time to target array \n",
    "        \n",
    "    Returns:\n",
    "        sorted_times: sorted times\n",
    "        probabilities: cumulative probabilities\n",
    "    \"\"\"\n",
    "    n = len(times)\n",
    "    sorted_times = np.sort(times)\n",
    "    probabilities = np.array([(i + 0.5) / n for i in range(n)])\n",
    "    return sorted_times, probabilities"
   ]
  },
  {
   "cell_type": "code",
   "execution_count": 12,
   "id": "9abfee9e-cf6c-4d56-a129-d2c0182abfff",
   "metadata": {},
   "outputs": [],
   "source": [
    "def plot_ttt_comparison(data_dict, instance, target, output_dir='plots'):\n",
    "    \"\"\"\n",
    "    Plots TTT\n",
    "    \n",
    "    Args:\n",
    "        data_dict: dict {metaheuristic_name: time_array}\n",
    "        instance: instance name\n",
    "        target: target value\n",
    "        output_dir: directory to save results\n",
    "    \"\"\"\n",
    "    plt.figure(figsize=(10, 7))\n",
    "    \n",
    "    colors = ['#1f77b4', '#ff7f0e', '#2ca02c', '#d62728', '#9467bd']\n",
    "    markers = ['o', 's', '^', 'D', 'v']\n",
    "    \n",
    "    for idx, (algorithm, times) in enumerate(data_dict.items()):\n",
    "        sorted_times, probs = compute_ttt_empirical(times)\n",
    "        \n",
    "        plt.plot(sorted_times, probs, \n",
    "                marker=markers[idx % len(markers)],\n",
    "                markersize=4,\n",
    "                linewidth=2,\n",
    "                label=algorithm,\n",
    "                color=colors[idx % len(colors)],\n",
    "                alpha=0.7)\n",
    "    \n",
    "    plt.xlabel('Time to target (ms)', fontsize=12)\n",
    "    plt.ylabel('Cumulative Probability', fontsize=12)\n",
    "    plt.title(f'TTT Plot - Instance: {instance}, Target: {target}', fontsize=14, fontweight='bold')\n",
    "    plt.grid(True, alpha=0.3, linestyle='--')\n",
    "    plt.legend(loc='lower right', fontsize=11, framealpha=0.9)\n",
    "    plt.ylim(0, 1)\n",
    "    plt.xlim(left=0)\n",
    "    \n",
    "    # Save plot\n",
    "    Path(output_dir).mkdir(exist_ok=True)\n",
    "    filename = f\"{output_dir}/ttt_{instance}_{target}.png\"\n",
    "    plt.savefig(filename, dpi=300, bbox_inches='tight')\n",
    "    print(f\"Saved plot: {filename}\")\n",
    "    plt.close()"
   ]
  },
  {
   "cell_type": "code",
   "execution_count": 13,
   "id": "c39c1367-270c-48c5-9dfc-4e1ebc39ecc6",
   "metadata": {},
   "outputs": [
    {
     "name": "stdout",
     "output_type": "stream",
     "text": [
      "Loaded: resultados_grasp_scqbf.csv (300 rows)\n",
      "Loaded: resultados_ts_scqbf.csv (300 rows)\n",
      "Loaded: resultados_ga_scqbf.csv (300 rows)\n"
     ]
    }
   ],
   "source": [
    "# Define CSV files\n",
    "csv_files = {\n",
    "    'GRASP': 'resultados_grasp_scqbf.csv',\n",
    "    'Tabu Search': 'resultados_ts_scqbf.csv',\n",
    "    'Genetic Algorithm': 'resultados_ga_scqbf.csv'\n",
    "}\n",
    "\n",
    "# Read CSVs\n",
    "dfs = {}\n",
    "for algorithm, filepath in csv_files.items():\n",
    "    try:\n",
    "        df = pd.read_csv(filepath)\n",
    "        dfs[algorithm] = df\n",
    "        print(f\"Loaded: {filepath} ({len(df)} rows)\")\n",
    "    except FileNotFoundError:\n",
    "        print(f\"File not found: {filepath}\")"
   ]
  },
  {
   "cell_type": "code",
   "execution_count": 14,
   "id": "a54bdde8-4ce3-4599-91cc-4bf9855b49aa",
   "metadata": {},
   "outputs": [
    {
     "name": "stdout",
     "output_type": "stream",
     "text": [
      "\n",
      "Pairs (instance, target) found: 3\n"
     ]
    }
   ],
   "source": [
    "# Identify pairs (instance, target)\n",
    "all_pairs = set()\n",
    "for df in dfs.values():\n",
    "    df['instancia'] = df['instancia'].str.split('/').str[-1].str.replace('.txt', '', regex=False)\n",
    "    pairs = df[['instancia', 'target']].drop_duplicates()\n",
    "    all_pairs.update(pairs.itertuples(index=False, name=None))\n",
    "\n",
    "all_pairs = sorted(all_pairs)\n",
    "print(f\"\\nPairs (instance, target) found: {len(all_pairs)}\")"
   ]
  },
  {
   "cell_type": "code",
   "execution_count": 15,
   "id": "64b517ec-a47d-4e97-8b1e-f581eddf749e",
   "metadata": {},
   "outputs": [
    {
     "name": "stdout",
     "output_type": "stream",
     "text": [
      "\n",
      "Plotting: instance=n200p3, target=4715.38\n",
      "  GRASP: 100 runs\n",
      "  Tabu Search: 100 runs\n",
      "  Genetic Algorithm: 100 runs\n",
      "Saved plot: plots/ttt_n200p3_4715.38.png\n",
      "\n",
      "Plotting: instance=n400p2, target=6248.32\n",
      "  GRASP: 100 runs\n",
      "  Tabu Search: 100 runs\n",
      "  Genetic Algorithm: 100 runs\n",
      "Saved plot: plots/ttt_n400p2_6248.32.png\n",
      "\n",
      "Plotting: instance=n400p2, target=10486.78\n",
      "  GRASP: 100 runs\n",
      "  Tabu Search: 100 runs\n",
      "  Genetic Algorithm: 100 runs\n",
      "Saved plot: plots/ttt_n400p2_10486.78.png\n"
     ]
    }
   ],
   "source": [
    "# Generate plot for each pair\n",
    "for instance, target in all_pairs:\n",
    "    print(f\"\\nPlotting: instance={instance}, target={target}\")\n",
    "    \n",
    "    # Extract times\n",
    "    data_dict = {}\n",
    "    for algorithm, df in dfs.items():\n",
    "        mask = (df['instancia'] == instance) & (df['target'] == target)\n",
    "        times = df.loc[mask, 'tempo_para_target_ms'].values\n",
    "        \n",
    "        if len(times) > 0:\n",
    "            data_dict[algorithm] = times\n",
    "            print(f\"  {algorithm}: {len(times)} runs\")\n",
    "        else:\n",
    "            print(f\"  {algorithm}: No data\")\n",
    "    \n",
    "    # Plot\n",
    "    if len(data_dict) > 0:\n",
    "        plot_ttt_comparison(data_dict, instance, target)\n",
    "    else:\n",
    "        print(f\" No metaheuristic found. Skipping...\")"
   ]
  },
  {
   "cell_type": "code",
   "execution_count": null,
   "id": "02f2e3fa-c8c1-476c-80d7-dc3e67132372",
   "metadata": {},
   "outputs": [],
   "source": []
  }
 ],
 "metadata": {
  "kernelspec": {
   "display_name": "Python 3 (ipykernel)",
   "language": "python",
   "name": "python3"
  },
  "language_info": {
   "codemirror_mode": {
    "name": "ipython",
    "version": 3
   },
   "file_extension": ".py",
   "mimetype": "text/x-python",
   "name": "python",
   "nbconvert_exporter": "python",
   "pygments_lexer": "ipython3",
   "version": "3.12.7"
  }
 },
 "nbformat": 4,
 "nbformat_minor": 5
}
